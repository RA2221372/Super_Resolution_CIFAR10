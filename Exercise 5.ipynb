{
 "cells": [
  {
   "cell_type": "markdown",
   "metadata": {
    "id": "spSn0u_jPzcZ"
   },
   "source": [
    "<div dir=\"rtl\">\n",
    "<font size=5>\n",
    "تمرین بهبود کیفیت تصویر (Super-Resolution) با CNN سفارشی\n",
    "</font>\n",
    "</div>\n",
    "\n",
    "<div dir=\"rtl\">\n",
    "    <font size=\"4\">\n",
    "        در این تمرین، شما با یک چالش جذاب در حوزه پردازش تصویر روبرو می‌شوید: <strong>بازسازی یک تصویر با کیفیت بالا (High-Resolution) از یک تصویر با کیفیت پایین (Low-Resolution)</strong>. این وظیفه <strong>Image-to-Image Translation</strong> نامیده می‌شود، جایی که خروجی مدل شما نیز یک تصویر است. شما یک <strong>شبکه CNN سفارشی</strong> را آموزش می‌دهید که بتواند جزئیات از دست رفته را پیش‌بینی کرده و تصویر را \"بزرگ‌تر\" و \"واضح‌تر\" کند. این مهارت در افزایش کیفیت تصاویر دوربین‌های امنیتی، پزشکی و تصاویر ماهواره‌ای کاربرد دارد.\n",
    "        <br><br>\n",
    "        <h2><strong>توضیح چالش</strong></h2>\n",
    "        <font size=\"4\">\n",
    "            برخلاف طبقه‌بندی که در آن خروجی مدل یک برچسب (مانند \"جنگل\" یا \"رودخانه\") است، در این تمرین، ورودی و خروجی هر دو تصویر هستند. مدل یاد می‌گیرد که چگونه پیکسل‌های یک تصویر جدید و باکیفیت‌تر را بر اساس الگوی پیکسل‌های تصویر ورودی بی‌کیفیت، تولید کند. این نیازمند طراحی شبکه‌هایی است که بتوانند ابعاد فضایی داده‌ها را افزایش دهند (Upsampling).\n",
    "        </font>\n",
    "        <br>\n",
    "        <h2><strong>وظیفه شما در این تمرین</strong></h2>\n",
    "        <font size=\"4\">\n",
    "                <li>✅ <strong>آماده‌سازی داده‌ها:</strong> استفاده از یک دیتاست استاندارد (CIFAR-10) و ایجاد جفت‌های داده (تصویر بی‌کیفیت، تصویر باکیفیت) از طریق کوچک‌نمایی (Downsampling) تصاویر اصلی.</li>\n",
    "                <li>✅ <strong>ساخت مدل Super-Resolution:</strong> طراحی یک معماری CNN سفارشی که شامل لایه‌هایی برای افزایش ابعاد تصویر مانند <strong><code>Conv2DTranspose</code></strong> یا <strong><code>UpSampling2D</code></strong> باشد.</li>\n",
    "                <li>✅ <strong>انتخاب تابع هزینه (Loss Function) مناسب:</strong> استفاده از توابعی مانند <code>Mean Squared Error (MSE)</code> یا <code>Mean Absolute Error (MAE)</code> برای مقایسه پیکسل به پیکسل تصویر تولیدشده با تصویر اصلی.</li>\n",
    "                <li>✅ <strong>آموزش و اعتبارسنجی مدل:</strong> آموزش مدل برای به حداقل رساندن تفاوت بین تصویر بازسازی‌شده و تصویر باکیفیت واقعی.</li>\n",
    "                <li>✅ <strong>ارزیابی و مصورسازی نتایج:</strong> نمایش سه‌تایی تصاویر (ورودی بی‌کیفیت، خروجی مدل، و هدف باکیفیت) برای ارزیابی بصری عملکرد مدل.</li>\n",
    "        </font>\n",
    "    </font>\n",
    "</div>\n",
    "<br>\n",
    "<div dir=\"rtl\">\n",
    "    <font size=\"4\">\n",
    "        <h2><strong>نحوه ارسال تمرین</strong></h2>\n",
    "        <font size=\"4\">\n",
    "                <li>📌 فایل نوت‌بوک خود را در یک <strong>مخزن (Repository) در حساب GitHub</strong> خود آپلود نمایید.</li>\n",
    "                <li>📌 لینک مخزن را کپی کرده و در <strong>پنل لنمیس</strong> ارسال کنید.</li>\n",
    "                <li>🔴 <strong>توجه داشته باشید که مخزن شما باید به‌صورت عمومی (Public) تنظیم شده باشد تا امکان بررسی تمرین فراهم گردد.</strong></li>\n",
    "        </font>\n",
    "        <br>\n",
    "        <h2><strong>دیتاست</strong></h2>\n",
    "            <li>در این تمرین از دیتاست <strong>CIFAR-10</strong> استفاده می‌کنیم که به صورت پیش‌فرض در Keras موجود است و نیازی به دانلود دستی ندارد.</li>\n",
    "            <li>این دیتاست شامل <strong>۶۰,۰۰۰ تصویر رنگی</strong> با ابعاد <code>32x32</code> پیکسل است. ما از این تصاویر به عنوان نسخه‌های باکیفیت (High-Resolution) استفاده کرده و خودمان نسخه‌های بی‌کیفیت (Low-Resolution) را تولید خواهیم کرد.</li>\n",
    "    </font>\n",
    "</div>\n",
    "\n",
    "<br>\n",
    "<div dir=\"rtl\"> <font size=5 color=\"red\">مهم (مطالعه شود): </font>\n",
    "<div dir=\"rtl\">\n",
    "    <font size=\"4\">\n",
    "            این راهنما به شما کمک می‌کند تا مانند یک حرفه‌ای از این منبع ارزشمند استفاده کرده و هرگز با مشکل محدودیت مواجه نشوید.\n",
    "        <div>\n",
    "        <br>\n",
    "            <h3>✅ استراتژی دو مرحله‌ای: گردش کار بهینه</h3>\n",
    "                قانون اصلی این است: GPU را فقط و فقط برای کاری که واقعاً به آن نیاز دارد، یعنی آموزش نهایی مدل (`model.fit`)، روشن کنید.</strong>\n",
    "                <li>\n",
    "                    فاز اول: کدنویسی و آماده‌سازی (در حالت CPU)\n",
    "                        <li>تمام کدهای خود را در حالت پیش‌فرض (CPU) بنویسید و اجرا کنید.</li>\n",
    "                        <li>کارهایی مانند دانلود و استخراج دیتاست، پیش‌پردازش، تحلیل آماری، ساخت معماری مدل و حتی اجرای <code>model.summary()</code> به هیچ وجه به GPU نیاز ندارند.</li>\n",
    "                        <li>با اجرای این مراحل در حالت CPU، شما سهمیه GPU خود را برای کارهای سبک هدر نمی‌دهید.</li>\n",
    "                </li>\n",
    "                <br><br>\n",
    "                <li>\n",
    "                    فاز دوم: آموزش نهایی (در حالت GPU)\n",
    "                        <li>وقتی از صحت تمام کدهای خود مطمئن شدید و تنها سلول <code>model.fit()</code> باقی مانده بود، زمان فعال‌سازی GPU است.</li>\n",
    "                        <li>نوت‌بوک خود را ذخیره کنید (<code>Ctrl+S</code>).</li>\n",
    "                        <li>از منوی Runtime > Change runtime type شتاب‌دهنده سخت‌افزاری را به GPU تغییر دهید.</li>\n",
    "                        <li>پس از اتصال مجدد، از منوی Runtime > Run all را انتخاب کنید تا تمام سلول‌ها به سرعت تا قبل از سلول آموزش اجرا شوند.</li>\n",
    "                        <li>حالا سلول <code>model.fit()</code> را اجرا کرده. </li>\n",
    "                </li>\n",
    "        </div>\n",
    "        <br><br>\n",
    "        <div>\n",
    "            <h3>🆘 در صورت مواجهه با محدودیت ها:</h3>\n",
    "                اگر پیامی مبنی بر اتمام سهمیه GPU دریافت کردید،. این اتفاق معمولاً پس از چند ساعت یا یک روز برطرف می‌شود. اما اگر عجله دارید، دو راه حل وجود دارد:\n",
    "                <li>\n",
    "                    راه حل سریع: می‌توانید از یک حساب کاربری گوگل دیگر برای باز کردن نوت‌بوک خود استفاده کنید. هر حساب کاربری سهمیه جداگانه‌ای دارد.\n",
    "                </li>\n",
    "                <li>\n",
    "                    راه حل پیشنهادی و حرفه‌ای‌تر: از نوت‌بوک‌های Kaggle استفاده کنید.\n",
    "                </li>\n",
    "            </div>\n",
    "    </font>\n",
    "</div>\n",
    "<br><br>"
   ]
  },
  {
   "cell_type": "code",
   "execution_count": null,
   "metadata": {
    "id": "4Cj4XjNkJz7S"
   },
   "outputs": [],
   "source": []
  },
  {
   "cell_type": "markdown",
   "metadata": {
    "id": "6v4TxWG5JsoN"
   },
   "source": [
    "<br><br>\n",
    "<div dir=\"rtl\"> <font size=\"5\">1. کتابخانه های مورد نیاز را لود کنید</font> </div>\n",
    "<br>\n"
   ]
  },
  {
   "cell_type": "code",
   "execution_count": 9,
   "metadata": {
    "id": "gMruIlLVPvmh"
   },
   "outputs": [],
   "source": [
    "# TODO: کتابخانه های مورد نیاز را ایمپورت کنید\n",
    "import numpy as np\n",
    "import matplotlib.pyplot as plt\n",
    "import tensorflow as tf"
   ]
  },
  {
   "cell_type": "code",
   "execution_count": null,
   "metadata": {
    "id": "bhczcebXWNm6"
   },
   "outputs": [],
   "source": [
    "# جلوگیری از استفاده GPU در مراحل اولیه\n",
    "# tf.config.set_visible_devices([], 'GPU')"
   ]
  },
  {
   "cell_type": "markdown",
   "metadata": {
    "id": "ghXfbT1dQH_O"
   },
   "source": [
    "<br><br>\n",
    "<div dir=\"rtl\"> <font size=\"5\">2. بارگذاری و آماده‌سازی دیتاست</font> </div>\n",
    "<br>\n",
    "<div dir=\"rtl\">\n",
    "    <font size=4>\n",
    "        در این بخش، دیتاست CIFAR-10 را بارگذاری کرده و آن را برای مسئله Super-Resolution آماده می‌کنیم.\n",
    "        <br><br>\n",
    "        <strong>مراحل:</strong>\n",
    "        <li>1. بارگذاری دیتاست CIFAR-10.  ما فقط به تصاویر (x_train, x_test) نیاز داریم و برچسب‌ها (y_train, y_test) در این تمرین کاربردی ندارند.</li>\n",
    "        <li>2. نرمال‌سازی مقادیر پیکسل‌ها به بازه <code>[0, 1]</code>. این کار به پایداری آموزش مدل کمک می‌کند.</li>\n",
    "        <li>3. دیتاست Cifar10 را از طریق Tensorflow در پروژه لود کنید.</li>\n",
    "    </font>\n",
    "</div>"
   ]
  },
  {
   "cell_type": "code",
   "execution_count": null,
   "metadata": {
    "id": "kqhdW175QGaS"
   },
   "outputs": [],
   "source": [
    "# TODO: دیتاست CIFAR-10 را بارگذاری کنید.\n",
    "from tensorflow.keras.models import Sequential\n",
    "from tensorflow.keras.layers import Conv2D,MaxPooling2D,AveragePooling2D,Flatten, Dense, Dropout, BatchNormalization\n",
    "from tensorflow.keras.datasets import cifar10\n",
    "from tensorflow.keras.utils import to_categorical\n",
    "from tensorflow.keras.preprocessing import image"
   ]
  },
  {
   "cell_type": "code",
   "execution_count": 35,
   "metadata": {},
   "outputs": [],
   "source": [
    "(x_train, y_train), (x_test, y_test) = cifar10.load_data()"
   ]
  },
  {
   "cell_type": "code",
   "execution_count": 36,
   "metadata": {},
   "outputs": [
    {
     "name": "stdout",
     "output_type": "stream",
     "text": [
      "Training data shape: (50000, 32, 32, 3), Labels shape: (50000, 1)\n",
      "Test data shape: (10000, 32, 32, 3), labels shape: (10000, 1)\n"
     ]
    }
   ],
   "source": [
    "print(f\"Training data shape: {x_train.shape}, Labels shape: {y_train.shape}\")\n",
    "print(f\"Test data shape: {x_test.shape}, labels shape: {y_test.shape}\")"
   ]
  },
  {
   "cell_type": "code",
   "execution_count": 12,
   "metadata": {},
   "outputs": [
    {
     "name": "stdout",
     "output_type": "stream",
     "text": [
      "شکل داده‌های آموزشی: (50000, 32, 32, 3)\n",
      "شکل داده‌های تست: (10000, 32, 32, 3)\n"
     ]
    }
   ],
   "source": [
    "# بارگذاری داده‌ها\n",
    "(x_train, y_train), (x_test, y_test) = cifar10.load_data()\n",
    "\n",
    "print(\"شکل داده‌های آموزشی:\", x_train.shape)\n",
    "print(\"شکل داده‌های تست:\", x_test.shape)\n"
   ]
  },
  {
   "cell_type": "code",
   "execution_count": 37,
   "metadata": {},
   "outputs": [
    {
     "name": "stdout",
     "output_type": "stream",
     "text": [
      "Training data: \n",
      "[[[ 59  62  63]\n",
      "  [ 43  46  45]\n",
      "  [ 50  48  43]\n",
      "  ...\n",
      "  [158 132 108]\n",
      "  [152 125 102]\n",
      "  [148 124 103]]\n",
      "\n",
      " [[ 16  20  20]\n",
      "  [  0   0   0]\n",
      "  [ 18   8   0]\n",
      "  ...\n",
      "  [123  88  55]\n",
      "  [119  83  50]\n",
      "  [122  87  57]]\n",
      "\n",
      " [[ 25  24  21]\n",
      "  [ 16   7   0]\n",
      "  [ 49  27   8]\n",
      "  ...\n",
      "  [118  84  50]\n",
      "  [120  84  50]\n",
      "  [109  73  42]]\n",
      "\n",
      " ...\n",
      "\n",
      " [[208 170  96]\n",
      "  [201 153  34]\n",
      "  [198 161  26]\n",
      "  ...\n",
      "  [160 133  70]\n",
      "  [ 56  31   7]\n",
      "  [ 53  34  20]]\n",
      "\n",
      " [[180 139  96]\n",
      "  [173 123  42]\n",
      "  [186 144  30]\n",
      "  ...\n",
      "  [184 148  94]\n",
      "  [ 97  62  34]\n",
      "  [ 83  53  34]]\n",
      "\n",
      " [[177 144 116]\n",
      "  [168 129  94]\n",
      "  [179 142  87]\n",
      "  ...\n",
      "  [216 184 140]\n",
      "  [151 118  84]\n",
      "  [123  92  72]]]\n",
      "\n",
      "\n",
      "labels: \n",
      "[6]\n"
     ]
    }
   ],
   "source": [
    "print(f\"Training data: \\n{x_train[0]}\")\n",
    "print(f\"\\n\\nlabels: \\n{y_train[0]}\")"
   ]
  },
  {
   "cell_type": "markdown",
   "metadata": {
    "id": "GqFHN0t4Wl21"
   },
   "source": [
    "<br>\n",
    "<div dir=\"rtl\">\n",
    "    <font size=4>\n",
    "        مقادیر پیکسل‌ها را به نوع float32 تبدیل کرده و در بازه [0, 1] نرمال‌سازی کنید.\n",
    "    </font>\n",
    "</div>"
   ]
  },
  {
   "cell_type": "code",
   "execution_count": 30,
   "metadata": {
    "id": "cDjyhQpuQGX2"
   },
   "outputs": [],
   "source": [
    "# TODO: مقادیر پیکسل‌ها را به نوع float32 تبدیل کرده و در بازه [0, 1] نرمال‌سازی کنید.\n",
    "x_train = x_train.astype('float32') / 255.0\n",
    "x_test  = x_test.astype('float32') / 255.0\n"
   ]
  },
  {
   "cell_type": "markdown",
   "metadata": {
    "id": "EA2I7RFXWuls"
   },
   "source": [
    "<br />\n",
    "<div dir=\"rtl\">\n",
    "  <font size=\"4\">\n",
    "    در این بخش، ابعاد تصاویر با کیفیت بالا (<strong>High Resolution - HR</strong\n",
    "    >) و تصاویر با کیفیت پایین (<strong>Low Resolution - LR</strong>) مشخص\n",
    "    می‌شوند. تصاویر اصلی دارای ابعاد <strong>32×32</strong> هستند، اما برای\n",
    "    شبیه‌سازی نسخه‌ی کم‌کیفیت، همان تصاویر را به ابعاد\n",
    "    <strong>16×16</strong> کاهش می‌دهیم. این کار به مدل کمک می‌کند تا یاد بگیرد\n",
    "    چگونه از تصاویر کوچک‌تر و بی‌جزئیات، نسخه‌های واضح‌تر و دقیق‌تری بازسازی\n",
    "    کند.\n",
    "  </font>\n",
    "</div>\n"
   ]
  },
  {
   "cell_type": "code",
   "execution_count": 40,
   "metadata": {
    "id": "d-G9NcBjKsrO"
   },
   "outputs": [
    {
     "name": "stdout",
     "output_type": "stream",
     "text": [
      "ابعاد HR: (32, 32, 3)\n",
      "ابعاد LR: (16, 16, 3)\n"
     ]
    }
   ],
   "source": [
    "# TODO: تعریف ابعاد تصاویر با کیفیت (HR) و بی کیفیت (LR)\n",
    "\n",
    "HR_HEIGHT, HR_WIDTH = 32, 32   # تصاویر اصلی CIFAR-10\n",
    "LR_HEIGHT, LR_WIDTH = 16, 16   # نسخه‌های کوچک‌تر (Low-Resolution)\n",
    "CHANNELS = 3                   # چون تصاویر رنگی (RGB) هستند\n",
    "\n",
    "print(\"ابعاد HR:\", (HR_HEIGHT, HR_WIDTH, CHANNELS))\n",
    "print(\"ابعاد LR:\", (LR_HEIGHT, LR_WIDTH, CHANNELS))\n"
   ]
  },
  {
   "cell_type": "markdown",
   "metadata": {
    "id": "AanGa2u8QM6M"
   },
   "source": [
    "<br><br>\n",
    "<div dir=\"rtl\"> <font size=\"5\">۳. تولید جفت داده‌های بی‌کیفیت و باکیفیت</font> </div>\n",
    "<br>\n",
    "<div dir=\"rtl\">\n",
    "    <font size=\"4\">\n",
    "        مدل ما باید یاد بگیرد که چگونه از یک تصویر بی‌کیفیت (Low Resolution (LR))، یک تصویر باکیفیت (High Resolution (HR)) بسازد. برای این کار، باید داده‌های آموزشی را به صورت جفت‌های (LR, HR) آماده کنیم.\n",
    "        <br><br>\n",
    "        <strong>وظیفه:</strong>\n",
    "        <li>با استفاده از تابع <code>tf.image</code>، تصاویر باکیفیت  را به ابعاد نصف (مثلاً از 32x32 به 16x16) کوچک کنید تا نسخه‌های بی‌کیفیت (LR) آن‌ها ساخته شود.</li>\n",
    "        <li>این تصاویر LR به عنوان ورودی مدل و تصاویر HR به عنوان خروجی هدف (target) استفاده خواهند شد.</li>\n",
    "    </font>\n",
    "</div><br>"
   ]
  },
  {
   "cell_type": "code",
   "execution_count": 41,
   "metadata": {
    "id": "KbqznpN0QGVc"
   },
   "outputs": [
    {
     "name": "stdout",
     "output_type": "stream",
     "text": [
      "شکل تصاویر HR (خروجی هدف): (50000, 32, 32, 3)\n",
      "شکل تصاویر LR (ورودی مدل): (50000, 16, 16, 3)\n"
     ]
    }
   ],
   "source": [
    "# TODO: تصاویر بی‌کیفیت (LR) را با کوچک کردن تصاویر باکیفیت (HR) بسازید.\n",
    "\n",
    "# ایجاد نسخه بی‌کیفیت با کاهش اندازه از 32x32 به 16x16\n",
    "x_train_lr = tf.image.resize(x_train, [LR_HEIGHT, LR_WIDTH], method='area')\n",
    "x_test_lr  = tf.image.resize(x_test,  [LR_HEIGHT, LR_WIDTH], method='area')\n",
    "\n",
    "# تأیید شکل داده‌ها\n",
    "print(\"شکل تصاویر HR (خروجی هدف):\", x_train.shape)\n",
    "print(\"شکل تصاویر LR (ورودی مدل):\", x_train_lr.shape)\n",
    "\n"
   ]
  },
  {
   "cell_type": "markdown",
   "metadata": {
    "id": "J1VsmXnVn6OW"
   },
   "source": [
    "<br><br>\n",
    "<div dir=\"rtl\"> <font size=\"5\">4. مصورسازی داده ها</font> </div>\n",
    "<div dir=\"rtl\">\n",
    "    <font size=\"4\">\n",
    "        برای درک بهتر داده‌ها، یک نمونه از تصاویر بی‌کیفیت (ورودی مدل) و باکیفیت (خروجی مطلوب) را در کنار هم نمایش دهید.\n",
    "    </font>\n",
    "</div><br>"
   ]
  },
  {
   "cell_type": "code",
   "execution_count": 54,
   "metadata": {
    "id": "knB-YqhvQGSr"
   },
   "outputs": [],
   "source": [
    "# TODO: یک تابع برای نمایش یک تصویر LR و HR در کنار هم بنویسید.\n",
    "\n",
    "def show_lr_hr(lr_image, hr_image, figsize=(6,3)):\n",
    "    \n",
    "    plt.figure(figsize=figsize)\n",
    "\n",
    "    # تصویر LR\n",
    "    plt.subplot(1,2,1)\n",
    "    plt.imshow(lr_image)\n",
    "    plt.title(\"Low-Resolution (LR)\")\n",
    "    plt.axis('off')\n",
    "\n",
    "    # تصویر HR\n",
    "    plt.subplot(1,2,2)\n",
    "    plt.imshow(hr_image)\n",
    "    plt.title(\"High-Resolution (HR)\")\n",
    "    plt.axis('off')\n",
    "\n",
    "    plt.show()\n"
   ]
  },
  {
   "cell_type": "code",
   "execution_count": 53,
   "metadata": {
    "id": "PcgqxzA1QGNk"
   },
   "outputs": [
    {
     "name": "stderr",
     "output_type": "stream",
     "text": [
      "Clipping input data to the valid range for imshow with RGB data ([0..1] for floats or [0..255] for integers). Got range [7.75..248.0].\n"
     ]
    },
    {
     "data": {
      "image/png": "[encoded data removed]",
      "text/plain": [
       "<Figure size 600x300 with 2 Axes>"
      ]
     },
     "metadata": {},
     "output_type": "display_data"
    }
   ],
   "source": [
    "# TODO: نمایش یک نمونه از داده‌های آموزشی\n",
    "\n",
    "sample_idx = 0\n",
    "show_lr_hr(x_train_lr[sample_idx], x_train[sample_idx])\n"
   ]
  },
  {
   "cell_type": "markdown",
   "metadata": {
    "id": "P2wnPx74PIxu"
   },
   "source": [
    "<br /><br />\n",
    "\n",
    "<div dir=\"rtl\"><font size=\"5\">5. ساخت معماری مدل Super-Resolution</font></div>\n",
    "<br />\n",
    "<div dir=\"rtl\">\n",
    "  <font size=\"4\">\n",
    "      در این بخش، معماری مدل CNN را برای وظیفه <strong>Super-Resolution</strong> طراحی می‌کنیم.\n",
    "      این مدل یک تصویر <strong>LR</strong> را به‌عنوان ورودی گرفته و یک تصویر با وضوح بالاتر <strong>(HR)</strong> به‌عنوان خروجی تولید می‌کند.\n",
    "      <br /><br />\n",
    "      <strong>نکات کلیدی معماری:</strong>\n",
    "      <li><strong>لایه ورودی:</strong> ابعاد آن باید متناسب با اندازه‌ی تصاویر LR باشد.</li>\n",
    "      <li><strong>لایه‌های استخراج ویژگی:</strong> شامل چندین لایه <code>Conv2D</code> برای یادگیری الگوها و بافت‌های موجود در تصویر.</li>\n",
    "      <li><strong>لایه افزایش ابعاد (Upsampling):</strong> از لایه <code>Conv2DTranspose</code> برای افزایش ابعاد فضایی نقشه ویژگی استفاده می‌شود.\n",
    "        این لایه می‌تواند مثلاً یک نقشه 16×16 را به 32×32 تبدیل کند.</li>\n",
    "      <li><strong>لایه خروجی:</strong> یک لایه <code>Conv2D</code> با 3 فیلتر (برای کانال‌های R، G و B) و تابع فعال‌سازی <code>sigmoid</code>\n",
    "        که تضمین می‌کند مقادیر پیکسل‌ها در بازه [0, 1] باقی بمانند.</li>\n",
    "      <br /><br />\n",
    "      هدف از طراحی مدل <strong>Super-Resolution</strong> بازسازی تصاویر با وضوح بالا از نمونه‌های کم‌کیفیت است.\n",
    "      شبکه عصبی در این فرایند یاد می‌گیرد جزئیات از دست‌رفته در هنگام کاهش کیفیت را بازیابی کند.\n",
    "      <br /><br />\n",
    "      این هدف معمولاً با استفاده از معماری‌هایی مانند <strong>SRCNN</strong>، <strong>VDSR / EDSR</strong> و <strong>FSRCNN</strong> انجام می‌شود\n",
    "      که از شبکه‌های کانولوشنی برای استخراج ویژگی‌ها و از روش‌هایی مثل <em>Residual Learning</em> برای بهبود کیفیت نهایی استفاده می‌کنند.\n",
    "      <br /><br />\n",
    "      با این حال، از آن‌جا که در این مرحله هنوز مفاهیم <strong>Residual Connection</strong> و <strong>GAN</strong> آموزش داده نشده‌اند،\n",
    "      از یک مدل ساده‌تر استفاده می‌کنیم تا مفهوم پایه‌ای Super-Resolution بهتر درک شود.\n",
    "      در این مدل، ابتدا تصویر ورودی با استفاده از لایه <code>UpSampling2D</code> یا <code>Conv2DTranspose</code> بزرگ‌نمایی می‌شود\n",
    "      و سپس چندین لایه <code>Conv2D</code> برای بازسازی الگوها و بافت‌های ظریف اضافه می‌گردند.\n",
    "      در نهایت، لایه‌ی خروجی با تابع فعال‌سازی <code>sigmoid</code> مقادیر پیکسل‌ها را در محدوده‌ی [0, 1] حفظ می‌کند.\n",
    "      <br /><br />\n",
    "      این معماری ساده اما مؤثر، مقدمه‌ای مناسب برای درک مدل‌های پیشرفته‌تر Super-Resolution است.\n",
    "      <br><br>\n",
    "      <font color=\"red\">راهنمایی</font>:  استفاده هم زمان از هر دو لایه الزامی نیست. شما میتوانید از یکی از این لایه ها استفاده کنید. هرچند که در معماری ها و تسک های پیچیده تر, ممکن است از هر دو لایه استفاده شود.\n",
    "  </font>\n",
    "</div>\n",
    "<br>\n"
   ]
  },
  {
   "cell_type": "markdown",
   "metadata": {
    "id": "-wvmWas2PwsJ"
   },
   "source": [
    "<div dir=\"rtl\"> <font size=\"4\">برای مطالعه در خصوص لایه های UpSampling2D و Conv2DTranspose به لینک های زیر مراجعه کنید.</font> </div>"
   ]
  },
  {
   "cell_type": "markdown",
   "metadata": {
    "id": "jAD5Me3rQIOa"
   },
   "source": [
    "* Basic Resouces:\n",
    "  * [Conv2DTranspose | Tensorflow](https://www.tensorflow.org/api_docs/python/tf/keras/layers/Conv2DTranspose)\n",
    "  * [UpSampling2D | Tensorflow](https://www.tensorflow.org/api_docs/python/tf/keras/layers/UpSampling2D)\n",
    "\n",
    "* Advanced Resources:\n",
    "  * [Deconvolution and Checkerboard Artifacts](https://distill.pub/2016/deconv-checkerboard/)\n",
    "  * [Understanding Transposed Convolution](https://towardsdatascience.com/transposed-convolution-demystified-84ca81b4baba/)\n",
    "\n",
    "  <br><br>"
   ]
  },
  {
   "cell_type": "code",
   "execution_count": 56,
   "metadata": {
    "id": "1l0hZpIzQk1d"
   },
   "outputs": [
    {
     "data": {
      "text/html": [
       "<pre style=\"white-space:pre;overflow-x:auto;line-height:normal;font-family:Menlo,'DejaVu Sans Mono',consolas,'Courier New',monospace\"><span style=\"font-weight: bold\">Model: \"functional_1\"</span>\n",
       "</pre>\n"
      ],
      "text/plain": [
       "\u001b[1mModel: \"functional_1\"\u001b[0m\n"
      ]
     },
     "metadata": {},
     "output_type": "display_data"
    },
    {
     "data": {
      "text/html": [
       "<pre style=\"white-space:pre;overflow-x:auto;line-height:normal;font-family:Menlo,'DejaVu Sans Mono',consolas,'Courier New',monospace\">┏━━━━━━━━━━━━━━━━━━━━━━━━━━━━━━━━━┳━━━━━━━━━━━━━━━━━━━━━━━━┳━━━━━━━━━━━━━━━┓\n",
       "┃<span style=\"font-weight: bold\"> Layer (type)                    </span>┃<span style=\"font-weight: bold\"> Output Shape           </span>┃<span style=\"font-weight: bold\">       Param # </span>┃\n",
       "┡━━━━━━━━━━━━━━━━━━━━━━━━━━━━━━━━━╇━━━━━━━━━━━━━━━━━━━━━━━━╇━━━━━━━━━━━━━━━┩\n",
       "│ input_layer_1 (<span style=\"color: #0087ff; text-decoration-color: #0087ff\">InputLayer</span>)      │ (<span style=\"color: #00d7ff; text-decoration-color: #00d7ff\">None</span>, <span style=\"color: #00af00; text-decoration-color: #00af00\">16</span>, <span style=\"color: #00af00; text-decoration-color: #00af00\">16</span>, <span style=\"color: #00af00; text-decoration-color: #00af00\">3</span>)      │             <span style=\"color: #00af00; text-decoration-color: #00af00\">0</span> │\n",
       "├─────────────────────────────────┼────────────────────────┼───────────────┤\n",
       "│ conv2d_5 (<span style=\"color: #0087ff; text-decoration-color: #0087ff\">Conv2D</span>)               │ (<span style=\"color: #00d7ff; text-decoration-color: #00d7ff\">None</span>, <span style=\"color: #00af00; text-decoration-color: #00af00\">16</span>, <span style=\"color: #00af00; text-decoration-color: #00af00\">16</span>, <span style=\"color: #00af00; text-decoration-color: #00af00\">32</span>)     │           <span style=\"color: #00af00; text-decoration-color: #00af00\">896</span> │\n",
       "├─────────────────────────────────┼────────────────────────┼───────────────┤\n",
       "│ batch_normalization_3           │ (<span style=\"color: #00d7ff; text-decoration-color: #00d7ff\">None</span>, <span style=\"color: #00af00; text-decoration-color: #00af00\">16</span>, <span style=\"color: #00af00; text-decoration-color: #00af00\">16</span>, <span style=\"color: #00af00; text-decoration-color: #00af00\">32</span>)     │           <span style=\"color: #00af00; text-decoration-color: #00af00\">128</span> │\n",
       "│ (<span style=\"color: #0087ff; text-decoration-color: #0087ff\">BatchNormalization</span>)            │                        │               │\n",
       "├─────────────────────────────────┼────────────────────────┼───────────────┤\n",
       "│ conv2d_6 (<span style=\"color: #0087ff; text-decoration-color: #0087ff\">Conv2D</span>)               │ (<span style=\"color: #00d7ff; text-decoration-color: #00d7ff\">None</span>, <span style=\"color: #00af00; text-decoration-color: #00af00\">16</span>, <span style=\"color: #00af00; text-decoration-color: #00af00\">16</span>, <span style=\"color: #00af00; text-decoration-color: #00af00\">64</span>)     │        <span style=\"color: #00af00; text-decoration-color: #00af00\">18,496</span> │\n",
       "├─────────────────────────────────┼────────────────────────┼───────────────┤\n",
       "│ batch_normalization_4           │ (<span style=\"color: #00d7ff; text-decoration-color: #00d7ff\">None</span>, <span style=\"color: #00af00; text-decoration-color: #00af00\">16</span>, <span style=\"color: #00af00; text-decoration-color: #00af00\">16</span>, <span style=\"color: #00af00; text-decoration-color: #00af00\">64</span>)     │           <span style=\"color: #00af00; text-decoration-color: #00af00\">256</span> │\n",
       "│ (<span style=\"color: #0087ff; text-decoration-color: #0087ff\">BatchNormalization</span>)            │                        │               │\n",
       "├─────────────────────────────────┼────────────────────────┼───────────────┤\n",
       "│ up_sampling2d_1 (<span style=\"color: #0087ff; text-decoration-color: #0087ff\">UpSampling2D</span>)  │ (<span style=\"color: #00d7ff; text-decoration-color: #00d7ff\">None</span>, <span style=\"color: #00af00; text-decoration-color: #00af00\">32</span>, <span style=\"color: #00af00; text-decoration-color: #00af00\">32</span>, <span style=\"color: #00af00; text-decoration-color: #00af00\">64</span>)     │             <span style=\"color: #00af00; text-decoration-color: #00af00\">0</span> │\n",
       "├─────────────────────────────────┼────────────────────────┼───────────────┤\n",
       "│ conv2d_7 (<span style=\"color: #0087ff; text-decoration-color: #0087ff\">Conv2D</span>)               │ (<span style=\"color: #00d7ff; text-decoration-color: #00d7ff\">None</span>, <span style=\"color: #00af00; text-decoration-color: #00af00\">32</span>, <span style=\"color: #00af00; text-decoration-color: #00af00\">32</span>, <span style=\"color: #00af00; text-decoration-color: #00af00\">64</span>)     │        <span style=\"color: #00af00; text-decoration-color: #00af00\">36,928</span> │\n",
       "├─────────────────────────────────┼────────────────────────┼───────────────┤\n",
       "│ batch_normalization_5           │ (<span style=\"color: #00d7ff; text-decoration-color: #00d7ff\">None</span>, <span style=\"color: #00af00; text-decoration-color: #00af00\">32</span>, <span style=\"color: #00af00; text-decoration-color: #00af00\">32</span>, <span style=\"color: #00af00; text-decoration-color: #00af00\">64</span>)     │           <span style=\"color: #00af00; text-decoration-color: #00af00\">256</span> │\n",
       "│ (<span style=\"color: #0087ff; text-decoration-color: #0087ff\">BatchNormalization</span>)            │                        │               │\n",
       "├─────────────────────────────────┼────────────────────────┼───────────────┤\n",
       "│ conv2d_8 (<span style=\"color: #0087ff; text-decoration-color: #0087ff\">Conv2D</span>)               │ (<span style=\"color: #00d7ff; text-decoration-color: #00d7ff\">None</span>, <span style=\"color: #00af00; text-decoration-color: #00af00\">32</span>, <span style=\"color: #00af00; text-decoration-color: #00af00\">32</span>, <span style=\"color: #00af00; text-decoration-color: #00af00\">32</span>)     │        <span style=\"color: #00af00; text-decoration-color: #00af00\">18,464</span> │\n",
       "├─────────────────────────────────┼────────────────────────┼───────────────┤\n",
       "│ conv2d_9 (<span style=\"color: #0087ff; text-decoration-color: #0087ff\">Conv2D</span>)               │ (<span style=\"color: #00d7ff; text-decoration-color: #00d7ff\">None</span>, <span style=\"color: #00af00; text-decoration-color: #00af00\">32</span>, <span style=\"color: #00af00; text-decoration-color: #00af00\">32</span>, <span style=\"color: #00af00; text-decoration-color: #00af00\">3</span>)      │           <span style=\"color: #00af00; text-decoration-color: #00af00\">867</span> │\n",
       "└─────────────────────────────────┴────────────────────────┴───────────────┘\n",
       "</pre>\n"
      ],
      "text/plain": [
       "┏━━━━━━━━━━━━━━━━━━━━━━━━━━━━━━━━━┳━━━━━━━━━━━━━━━━━━━━━━━━┳━━━━━━━━━━━━━━━┓\n",
       "┃\u001b[1m \u001b[0m\u001b[1mLayer (type)                   \u001b[0m\u001b[1m \u001b[0m┃\u001b[1m \u001b[0m\u001b[1mOutput Shape          \u001b[0m\u001b[1m \u001b[0m┃\u001b[1m \u001b[0m\u001b[1m      Param #\u001b[0m\u001b[1m \u001b[0m┃\n",
       "┡━━━━━━━━━━━━━━━━━━━━━━━━━━━━━━━━━╇━━━━━━━━━━━━━━━━━━━━━━━━╇━━━━━━━━━━━━━━━┩\n",
       "│ input_layer_1 (\u001b[38;5;33mInputLayer\u001b[0m)      │ (\u001b[38;5;45mNone\u001b[0m, \u001b[38;5;34m16\u001b[0m, \u001b[38;5;34m16\u001b[0m, \u001b[38;5;34m3\u001b[0m)      │             \u001b[38;5;34m0\u001b[0m │\n",
       "├─────────────────────────────────┼────────────────────────┼───────────────┤\n",
       "│ conv2d_5 (\u001b[38;5;33mConv2D\u001b[0m)               │ (\u001b[38;5;45mNone\u001b[0m, \u001b[38;5;34m16\u001b[0m, \u001b[38;5;34m16\u001b[0m, \u001b[38;5;34m32\u001b[0m)     │           \u001b[38;5;34m896\u001b[0m │\n",
       "├─────────────────────────────────┼────────────────────────┼───────────────┤\n",
       "│ batch_normalization_3           │ (\u001b[38;5;45mNone\u001b[0m, \u001b[38;5;34m16\u001b[0m, \u001b[38;5;34m16\u001b[0m, \u001b[38;5;34m32\u001b[0m)     │           \u001b[38;5;34m128\u001b[0m │\n",
       "│ (\u001b[38;5;33mBatchNormalization\u001b[0m)            │                        │               │\n",
       "├─────────────────────────────────┼────────────────────────┼───────────────┤\n",
       "│ conv2d_6 (\u001b[38;5;33mConv2D\u001b[0m)               │ (\u001b[38;5;45mNone\u001b[0m, \u001b[38;5;34m16\u001b[0m, \u001b[38;5;34m16\u001b[0m, \u001b[38;5;34m64\u001b[0m)     │        \u001b[38;5;34m18,496\u001b[0m │\n",
       "├─────────────────────────────────┼────────────────────────┼───────────────┤\n",
       "│ batch_normalization_4           │ (\u001b[38;5;45mNone\u001b[0m, \u001b[38;5;34m16\u001b[0m, \u001b[38;5;34m16\u001b[0m, \u001b[38;5;34m64\u001b[0m)     │           \u001b[38;5;34m256\u001b[0m │\n",
       "│ (\u001b[38;5;33mBatchNormalization\u001b[0m)            │                        │               │\n",
       "├─────────────────────────────────┼────────────────────────┼───────────────┤\n",
       "│ up_sampling2d_1 (\u001b[38;5;33mUpSampling2D\u001b[0m)  │ (\u001b[38;5;45mNone\u001b[0m, \u001b[38;5;34m32\u001b[0m, \u001b[38;5;34m32\u001b[0m, \u001b[38;5;34m64\u001b[0m)     │             \u001b[38;5;34m0\u001b[0m │\n",
       "├─────────────────────────────────┼────────────────────────┼───────────────┤\n",
       "│ conv2d_7 (\u001b[38;5;33mConv2D\u001b[0m)               │ (\u001b[38;5;45mNone\u001b[0m, \u001b[38;5;34m32\u001b[0m, \u001b[38;5;34m32\u001b[0m, \u001b[38;5;34m64\u001b[0m)     │        \u001b[38;5;34m36,928\u001b[0m │\n",
       "├─────────────────────────────────┼────────────────────────┼───────────────┤\n",
       "│ batch_normalization_5           │ (\u001b[38;5;45mNone\u001b[0m, \u001b[38;5;34m32\u001b[0m, \u001b[38;5;34m32\u001b[0m, \u001b[38;5;34m64\u001b[0m)     │           \u001b[38;5;34m256\u001b[0m │\n",
       "│ (\u001b[38;5;33mBatchNormalization\u001b[0m)            │                        │               │\n",
       "├─────────────────────────────────┼────────────────────────┼───────────────┤\n",
       "│ conv2d_8 (\u001b[38;5;33mConv2D\u001b[0m)               │ (\u001b[38;5;45mNone\u001b[0m, \u001b[38;5;34m32\u001b[0m, \u001b[38;5;34m32\u001b[0m, \u001b[38;5;34m32\u001b[0m)     │        \u001b[38;5;34m18,464\u001b[0m │\n",
       "├─────────────────────────────────┼────────────────────────┼───────────────┤\n",
       "│ conv2d_9 (\u001b[38;5;33mConv2D\u001b[0m)               │ (\u001b[38;5;45mNone\u001b[0m, \u001b[38;5;34m32\u001b[0m, \u001b[38;5;34m32\u001b[0m, \u001b[38;5;34m3\u001b[0m)      │           \u001b[38;5;34m867\u001b[0m │\n",
       "└─────────────────────────────────┴────────────────────────┴───────────────┘\n"
      ]
     },
     "metadata": {},
     "output_type": "display_data"
    },
    {
     "data": {
      "text/html": [
       "<pre style=\"white-space:pre;overflow-x:auto;line-height:normal;font-family:Menlo,'DejaVu Sans Mono',consolas,'Courier New',monospace\"><span style=\"font-weight: bold\"> Total params: </span><span style=\"color: #00af00; text-decoration-color: #00af00\">76,291</span> (298.01 KB)\n",
       "</pre>\n"
      ],
      "text/plain": [
       "\u001b[1m Total params: \u001b[0m\u001b[38;5;34m76,291\u001b[0m (298.01 KB)\n"
      ]
     },
     "metadata": {},
     "output_type": "display_data"
    },
    {
     "data": {
      "text/html": [
       "<pre style=\"white-space:pre;overflow-x:auto;line-height:normal;font-family:Menlo,'DejaVu Sans Mono',consolas,'Courier New',monospace\"><span style=\"font-weight: bold\"> Trainable params: </span><span style=\"color: #00af00; text-decoration-color: #00af00\">75,971</span> (296.76 KB)\n",
       "</pre>\n"
      ],
      "text/plain": [
       "\u001b[1m Trainable params: \u001b[0m\u001b[38;5;34m75,971\u001b[0m (296.76 KB)\n"
      ]
     },
     "metadata": {},
     "output_type": "display_data"
    },
    {
     "data": {
      "text/html": [
       "<pre style=\"white-space:pre;overflow-x:auto;line-height:normal;font-family:Menlo,'DejaVu Sans Mono',consolas,'Courier New',monospace\"><span style=\"font-weight: bold\"> Non-trainable params: </span><span style=\"color: #00af00; text-decoration-color: #00af00\">320</span> (1.25 KB)\n",
       "</pre>\n"
      ],
      "text/plain": [
       "\u001b[1m Non-trainable params: \u001b[0m\u001b[38;5;34m320\u001b[0m (1.25 KB)\n"
      ]
     },
     "metadata": {},
     "output_type": "display_data"
    }
   ],
   "source": [
    "# TODO: ایجاد تابع Super Resolution\n",
    "from tensorflow.keras.models import Model\n",
    "from tensorflow.keras.layers import Input, Conv2D, UpSampling2D, BatchNormalization\n",
    "\n",
    "def build_sr_cnn(input_shape=(LR_HEIGHT, LR_WIDTH, CHANNELS)):\n",
    "    \n",
    "    inputs = Input(shape=input_shape)\n",
    "\n",
    "    # استخراج ویژگی‌ها\n",
    "    x = Conv2D(32, (3,3), activation='relu', padding='same')(inputs)\n",
    "    x = BatchNormalization()(x)\n",
    "    x = Conv2D(64, (3,3), activation='relu', padding='same')(x)\n",
    "    x = BatchNormalization()(x)\n",
    "\n",
    "    # افزایش ابعاد\n",
    "    x = UpSampling2D(size=(2,2))(x)  # 16x16 -> 32x32\n",
    "    x = Conv2D(64, (3,3), activation='relu', padding='same')(x)\n",
    "    x = BatchNormalization()(x)\n",
    "    x = Conv2D(32, (3,3), activation='relu', padding='same')(x)\n",
    "\n",
    "    # خروجی\n",
    "    outputs = Conv2D(3, (3,3), activation='sigmoid', padding='same')(x)\n",
    "\n",
    "    model = Model(inputs, outputs)\n",
    "    return model\n",
    "\n",
    "# ایجاد مدل\n",
    "sr_model = build_sr_cnn()\n",
    "sr_model.summary()\n",
    "\n"
   ]
  },
  {
   "cell_type": "code",
   "execution_count": 61,
   "metadata": {
    "id": "_bKXB7jpQTo3"
   },
   "outputs": [
    {
     "data": {
      "text/html": [
       "<pre style=\"white-space:pre;overflow-x:auto;line-height:normal;font-family:Menlo,'DejaVu Sans Mono',consolas,'Courier New',monospace\"><span style=\"font-weight: bold\">Model: \"functional_5\"</span>\n",
       "</pre>\n"
      ],
      "text/plain": [
       "\u001b[1mModel: \"functional_5\"\u001b[0m\n"
      ]
     },
     "metadata": {},
     "output_type": "display_data"
    },
    {
     "data": {
      "text/html": [
       "<pre style=\"white-space:pre;overflow-x:auto;line-height:normal;font-family:Menlo,'DejaVu Sans Mono',consolas,'Courier New',monospace\">┏━━━━━━━━━━━━━━━━━━━━━━━━━━━━━━━━━┳━━━━━━━━━━━━━━━━━━━━━━━━┳━━━━━━━━━━━━━━━┓\n",
       "┃<span style=\"font-weight: bold\"> Layer (type)                    </span>┃<span style=\"font-weight: bold\"> Output Shape           </span>┃<span style=\"font-weight: bold\">       Param # </span>┃\n",
       "┡━━━━━━━━━━━━━━━━━━━━━━━━━━━━━━━━━╇━━━━━━━━━━━━━━━━━━━━━━━━╇━━━━━━━━━━━━━━━┩\n",
       "│ input_layer_5 (<span style=\"color: #0087ff; text-decoration-color: #0087ff\">InputLayer</span>)      │ (<span style=\"color: #00d7ff; text-decoration-color: #00d7ff\">None</span>, <span style=\"color: #00af00; text-decoration-color: #00af00\">16</span>, <span style=\"color: #00af00; text-decoration-color: #00af00\">16</span>, <span style=\"color: #00af00; text-decoration-color: #00af00\">3</span>)      │             <span style=\"color: #00af00; text-decoration-color: #00af00\">0</span> │\n",
       "├─────────────────────────────────┼────────────────────────┼───────────────┤\n",
       "│ conv2d_25 (<span style=\"color: #0087ff; text-decoration-color: #0087ff\">Conv2D</span>)              │ (<span style=\"color: #00d7ff; text-decoration-color: #00d7ff\">None</span>, <span style=\"color: #00af00; text-decoration-color: #00af00\">16</span>, <span style=\"color: #00af00; text-decoration-color: #00af00\">16</span>, <span style=\"color: #00af00; text-decoration-color: #00af00\">32</span>)     │           <span style=\"color: #00af00; text-decoration-color: #00af00\">896</span> │\n",
       "├─────────────────────────────────┼────────────────────────┼───────────────┤\n",
       "│ batch_normalization_15          │ (<span style=\"color: #00d7ff; text-decoration-color: #00d7ff\">None</span>, <span style=\"color: #00af00; text-decoration-color: #00af00\">16</span>, <span style=\"color: #00af00; text-decoration-color: #00af00\">16</span>, <span style=\"color: #00af00; text-decoration-color: #00af00\">32</span>)     │           <span style=\"color: #00af00; text-decoration-color: #00af00\">128</span> │\n",
       "│ (<span style=\"color: #0087ff; text-decoration-color: #0087ff\">BatchNormalization</span>)            │                        │               │\n",
       "├─────────────────────────────────┼────────────────────────┼───────────────┤\n",
       "│ conv2d_26 (<span style=\"color: #0087ff; text-decoration-color: #0087ff\">Conv2D</span>)              │ (<span style=\"color: #00d7ff; text-decoration-color: #00d7ff\">None</span>, <span style=\"color: #00af00; text-decoration-color: #00af00\">16</span>, <span style=\"color: #00af00; text-decoration-color: #00af00\">16</span>, <span style=\"color: #00af00; text-decoration-color: #00af00\">64</span>)     │        <span style=\"color: #00af00; text-decoration-color: #00af00\">18,496</span> │\n",
       "├─────────────────────────────────┼────────────────────────┼───────────────┤\n",
       "│ batch_normalization_16          │ (<span style=\"color: #00d7ff; text-decoration-color: #00d7ff\">None</span>, <span style=\"color: #00af00; text-decoration-color: #00af00\">16</span>, <span style=\"color: #00af00; text-decoration-color: #00af00\">16</span>, <span style=\"color: #00af00; text-decoration-color: #00af00\">64</span>)     │           <span style=\"color: #00af00; text-decoration-color: #00af00\">256</span> │\n",
       "│ (<span style=\"color: #0087ff; text-decoration-color: #0087ff\">BatchNormalization</span>)            │                        │               │\n",
       "├─────────────────────────────────┼────────────────────────┼───────────────┤\n",
       "│ up_sampling2d_5 (<span style=\"color: #0087ff; text-decoration-color: #0087ff\">UpSampling2D</span>)  │ (<span style=\"color: #00d7ff; text-decoration-color: #00d7ff\">None</span>, <span style=\"color: #00af00; text-decoration-color: #00af00\">32</span>, <span style=\"color: #00af00; text-decoration-color: #00af00\">32</span>, <span style=\"color: #00af00; text-decoration-color: #00af00\">64</span>)     │             <span style=\"color: #00af00; text-decoration-color: #00af00\">0</span> │\n",
       "├─────────────────────────────────┼────────────────────────┼───────────────┤\n",
       "│ conv2d_27 (<span style=\"color: #0087ff; text-decoration-color: #0087ff\">Conv2D</span>)              │ (<span style=\"color: #00d7ff; text-decoration-color: #00d7ff\">None</span>, <span style=\"color: #00af00; text-decoration-color: #00af00\">32</span>, <span style=\"color: #00af00; text-decoration-color: #00af00\">32</span>, <span style=\"color: #00af00; text-decoration-color: #00af00\">64</span>)     │        <span style=\"color: #00af00; text-decoration-color: #00af00\">36,928</span> │\n",
       "├─────────────────────────────────┼────────────────────────┼───────────────┤\n",
       "│ batch_normalization_17          │ (<span style=\"color: #00d7ff; text-decoration-color: #00d7ff\">None</span>, <span style=\"color: #00af00; text-decoration-color: #00af00\">32</span>, <span style=\"color: #00af00; text-decoration-color: #00af00\">32</span>, <span style=\"color: #00af00; text-decoration-color: #00af00\">64</span>)     │           <span style=\"color: #00af00; text-decoration-color: #00af00\">256</span> │\n",
       "│ (<span style=\"color: #0087ff; text-decoration-color: #0087ff\">BatchNormalization</span>)            │                        │               │\n",
       "├─────────────────────────────────┼────────────────────────┼───────────────┤\n",
       "│ conv2d_28 (<span style=\"color: #0087ff; text-decoration-color: #0087ff\">Conv2D</span>)              │ (<span style=\"color: #00d7ff; text-decoration-color: #00d7ff\">None</span>, <span style=\"color: #00af00; text-decoration-color: #00af00\">32</span>, <span style=\"color: #00af00; text-decoration-color: #00af00\">32</span>, <span style=\"color: #00af00; text-decoration-color: #00af00\">32</span>)     │        <span style=\"color: #00af00; text-decoration-color: #00af00\">18,464</span> │\n",
       "├─────────────────────────────────┼────────────────────────┼───────────────┤\n",
       "│ conv2d_29 (<span style=\"color: #0087ff; text-decoration-color: #0087ff\">Conv2D</span>)              │ (<span style=\"color: #00d7ff; text-decoration-color: #00d7ff\">None</span>, <span style=\"color: #00af00; text-decoration-color: #00af00\">32</span>, <span style=\"color: #00af00; text-decoration-color: #00af00\">32</span>, <span style=\"color: #00af00; text-decoration-color: #00af00\">3</span>)      │           <span style=\"color: #00af00; text-decoration-color: #00af00\">867</span> │\n",
       "└─────────────────────────────────┴────────────────────────┴───────────────┘\n",
       "</pre>\n"
      ],
      "text/plain": [
       "┏━━━━━━━━━━━━━━━━━━━━━━━━━━━━━━━━━┳━━━━━━━━━━━━━━━━━━━━━━━━┳━━━━━━━━━━━━━━━┓\n",
       "┃\u001b[1m \u001b[0m\u001b[1mLayer (type)                   \u001b[0m\u001b[1m \u001b[0m┃\u001b[1m \u001b[0m\u001b[1mOutput Shape          \u001b[0m\u001b[1m \u001b[0m┃\u001b[1m \u001b[0m\u001b[1m      Param #\u001b[0m\u001b[1m \u001b[0m┃\n",
       "┡━━━━━━━━━━━━━━━━━━━━━━━━━━━━━━━━━╇━━━━━━━━━━━━━━━━━━━━━━━━╇━━━━━━━━━━━━━━━┩\n",
       "│ input_layer_5 (\u001b[38;5;33mInputLayer\u001b[0m)      │ (\u001b[38;5;45mNone\u001b[0m, \u001b[38;5;34m16\u001b[0m, \u001b[38;5;34m16\u001b[0m, \u001b[38;5;34m3\u001b[0m)      │             \u001b[38;5;34m0\u001b[0m │\n",
       "├─────────────────────────────────┼────────────────────────┼───────────────┤\n",
       "│ conv2d_25 (\u001b[38;5;33mConv2D\u001b[0m)              │ (\u001b[38;5;45mNone\u001b[0m, \u001b[38;5;34m16\u001b[0m, \u001b[38;5;34m16\u001b[0m, \u001b[38;5;34m32\u001b[0m)     │           \u001b[38;5;34m896\u001b[0m │\n",
       "├─────────────────────────────────┼────────────────────────┼───────────────┤\n",
       "│ batch_normalization_15          │ (\u001b[38;5;45mNone\u001b[0m, \u001b[38;5;34m16\u001b[0m, \u001b[38;5;34m16\u001b[0m, \u001b[38;5;34m32\u001b[0m)     │           \u001b[38;5;34m128\u001b[0m │\n",
       "│ (\u001b[38;5;33mBatchNormalization\u001b[0m)            │                        │               │\n",
       "├─────────────────────────────────┼────────────────────────┼───────────────┤\n",
       "│ conv2d_26 (\u001b[38;5;33mConv2D\u001b[0m)              │ (\u001b[38;5;45mNone\u001b[0m, \u001b[38;5;34m16\u001b[0m, \u001b[38;5;34m16\u001b[0m, \u001b[38;5;34m64\u001b[0m)     │        \u001b[38;5;34m18,496\u001b[0m │\n",
       "├─────────────────────────────────┼────────────────────────┼───────────────┤\n",
       "│ batch_normalization_16          │ (\u001b[38;5;45mNone\u001b[0m, \u001b[38;5;34m16\u001b[0m, \u001b[38;5;34m16\u001b[0m, \u001b[38;5;34m64\u001b[0m)     │           \u001b[38;5;34m256\u001b[0m │\n",
       "│ (\u001b[38;5;33mBatchNormalization\u001b[0m)            │                        │               │\n",
       "├─────────────────────────────────┼────────────────────────┼───────────────┤\n",
       "│ up_sampling2d_5 (\u001b[38;5;33mUpSampling2D\u001b[0m)  │ (\u001b[38;5;45mNone\u001b[0m, \u001b[38;5;34m32\u001b[0m, \u001b[38;5;34m32\u001b[0m, \u001b[38;5;34m64\u001b[0m)     │             \u001b[38;5;34m0\u001b[0m │\n",
       "├─────────────────────────────────┼────────────────────────┼───────────────┤\n",
       "│ conv2d_27 (\u001b[38;5;33mConv2D\u001b[0m)              │ (\u001b[38;5;45mNone\u001b[0m, \u001b[38;5;34m32\u001b[0m, \u001b[38;5;34m32\u001b[0m, \u001b[38;5;34m64\u001b[0m)     │        \u001b[38;5;34m36,928\u001b[0m │\n",
       "├─────────────────────────────────┼────────────────────────┼───────────────┤\n",
       "│ batch_normalization_17          │ (\u001b[38;5;45mNone\u001b[0m, \u001b[38;5;34m32\u001b[0m, \u001b[38;5;34m32\u001b[0m, \u001b[38;5;34m64\u001b[0m)     │           \u001b[38;5;34m256\u001b[0m │\n",
       "│ (\u001b[38;5;33mBatchNormalization\u001b[0m)            │                        │               │\n",
       "├─────────────────────────────────┼────────────────────────┼───────────────┤\n",
       "│ conv2d_28 (\u001b[38;5;33mConv2D\u001b[0m)              │ (\u001b[38;5;45mNone\u001b[0m, \u001b[38;5;34m32\u001b[0m, \u001b[38;5;34m32\u001b[0m, \u001b[38;5;34m32\u001b[0m)     │        \u001b[38;5;34m18,464\u001b[0m │\n",
       "├─────────────────────────────────┼────────────────────────┼───────────────┤\n",
       "│ conv2d_29 (\u001b[38;5;33mConv2D\u001b[0m)              │ (\u001b[38;5;45mNone\u001b[0m, \u001b[38;5;34m32\u001b[0m, \u001b[38;5;34m32\u001b[0m, \u001b[38;5;34m3\u001b[0m)      │           \u001b[38;5;34m867\u001b[0m │\n",
       "└─────────────────────────────────┴────────────────────────┴───────────────┘\n"
      ]
     },
     "metadata": {},
     "output_type": "display_data"
    },
    {
     "data": {
      "text/html": [
       "<pre style=\"white-space:pre;overflow-x:auto;line-height:normal;font-family:Menlo,'DejaVu Sans Mono',consolas,'Courier New',monospace\"><span style=\"font-weight: bold\"> Total params: </span><span style=\"color: #00af00; text-decoration-color: #00af00\">76,291</span> (298.01 KB)\n",
       "</pre>\n"
      ],
      "text/plain": [
       "\u001b[1m Total params: \u001b[0m\u001b[38;5;34m76,291\u001b[0m (298.01 KB)\n"
      ]
     },
     "metadata": {},
     "output_type": "display_data"
    },
    {
     "data": {
      "text/html": [
       "<pre style=\"white-space:pre;overflow-x:auto;line-height:normal;font-family:Menlo,'DejaVu Sans Mono',consolas,'Courier New',monospace\"><span style=\"font-weight: bold\"> Trainable params: </span><span style=\"color: #00af00; text-decoration-color: #00af00\">75,971</span> (296.76 KB)\n",
       "</pre>\n"
      ],
      "text/plain": [
       "\u001b[1m Trainable params: \u001b[0m\u001b[38;5;34m75,971\u001b[0m (296.76 KB)\n"
      ]
     },
     "metadata": {},
     "output_type": "display_data"
    },
    {
     "data": {
      "text/html": [
       "<pre style=\"white-space:pre;overflow-x:auto;line-height:normal;font-family:Menlo,'DejaVu Sans Mono',consolas,'Courier New',monospace\"><span style=\"font-weight: bold\"> Non-trainable params: </span><span style=\"color: #00af00; text-decoration-color: #00af00\">320</span> (1.25 KB)\n",
       "</pre>\n"
      ],
      "text/plain": [
       "\u001b[1m Non-trainable params: \u001b[0m\u001b[38;5;34m320\u001b[0m (1.25 KB)\n"
      ]
     },
     "metadata": {},
     "output_type": "display_data"
    }
   ],
   "source": [
    "# TODO: ساخت مدل\n",
    "\n",
    "sr_model = build_sr_cnn(input_shape=(LR_HEIGHT, LR_WIDTH, CHANNELS))\n",
    "\n",
    "# TODO: نمایش خلاصه معماری مدل\n",
    "\n",
    "sr_model.summary()\n"
   ]
  },
  {
   "cell_type": "code",
   "execution_count": 63,
   "metadata": {
    "id": "PN6G9D8HTxY6"
   },
   "outputs": [],
   "source": [
    "monitor='val_loss',       # پایش loss روی داده ولیدیشن\n",
    "patience=10,              # تعداد epoch صبر قبل از توقف\n",
    "restore_best_weights=True  # بازگرداندن بهترین وزن‌ها\n",
    "#-----------------------------------------------------------------\n",
    "from tensorflow.keras.optimizers import Adam\n",
    "from tensorflow.keras.callbacks import EarlyStopping\n",
    "\n",
    "# کامپایل مدل\n",
    "sr_model.compile(optimizer=Adam(learning_rate=0.001), \n",
    "                 loss='mse', \n",
    "                 metrics=['mae'])\n",
    "\n",
    "# تعریف EarlyStopping\n",
    "early_stop = EarlyStopping(monitor='val_loss', patience=10, restore_best_weights=True)\n"
   ]
  },
  {
   "cell_type": "markdown",
   "metadata": {
    "id": "OKMGV00TQvI2"
   },
   "source": [
    "<br><br>\n",
    "<div dir=\"rtl\"> <font size=\"5\">6. آموزش مدل</font> </div>\n",
    "<div dir=\"rtl\">\n",
    "    <font size=\"4\">\n",
    "        حالا مدل را با استفاده از داده‌های آماده‌شده آموزش می‌دهیم. در صورت نیاز از Callback ها استفاده کنید.\n",
    "        <br><br>\n",
    "        <strong>نکته مهم:</strong>\n",
    "        <li>ورودی مدل (x) تصاویر بی‌کیفیت  هستند.</li>\n",
    "        <li>خروجی هدف (y) تصاویر باکیفیت  هستند.</li>\n",
    "        <li>مدل یاد می‌گیرد که تابع هزینه‌ بین خروجی پیش‌بینی‌شده و خروجی واقعی را به حداقل برساند.</li>\n",
    "    </font>\n",
    "</div>"
   ]
  },
  {
   "cell_type": "code",
   "execution_count": 69,
   "metadata": {
    "id": "9xLX3KYdRgMz"
   },
   "outputs": [],
   "source": [
    "# TODO: در صورت نیاز توابع Callbacks را پیاده سازی کنید.\n",
    "\n",
    "from tensorflow.keras.callbacks import EarlyStopping, ReduceLROnPlateau\n",
    "\n",
    "early_stop = EarlyStopping(\n",
    "    monitor='val_loss',      # پایش loss روی validation\n",
    "    patience=10,             # صبر قبل از توقف\n",
    "    restore_best_weights=True\n",
    ")\n",
    "\n",
    "reduce_lr = ReduceLROnPlateau(\n",
    "    monitor='val_loss',\n",
    "    factor=0.5,              # کاهش LR به نصف\n",
    "    patience=5,              # صبر قبل از کاهش\n",
    "    min_lr=1e-6,             # حداقل LR\n",
    "    verbose=1\n",
    ")\n",
    "\n",
    "callbacks_list = [early_stop, reduce_lr]"
   ]
  },
  {
   "cell_type": "code",
   "execution_count": 75,
   "metadata": {
    "id": "u4VVqUD7QTmR"
   },
   "outputs": [
    {
     "name": "stdout",
     "output_type": "stream",
     "text": [
      "Epoch 1/20\n",
      "\u001b[1m782/782\u001b[0m \u001b[32m━━━━━━━━━━━━━━━━━━━━\u001b[0m\u001b[37m\u001b[0m \u001b[1m402s\u001b[0m 513ms/step - loss: 18461.9805 - mae: 119.8093 - val_loss: 18631.0781 - val_mae: 120.5342 - learning_rate: 1.2500e-04\n",
      "Epoch 2/20\n",
      "\u001b[1m782/782\u001b[0m \u001b[32m━━━━━━━━━━━━━━━━━━━━\u001b[0m\u001b[37m\u001b[0m \u001b[1m383s\u001b[0m 490ms/step - loss: 18423.4688 - mae: 119.5967 - val_loss: 18631.0781 - val_mae: 120.5342 - learning_rate: 1.2500e-04\n",
      "Epoch 3/20\n",
      "\u001b[1m782/782\u001b[0m \u001b[32m━━━━━━━━━━━━━━━━━━━━\u001b[0m\u001b[37m\u001b[0m \u001b[1m380s\u001b[0m 485ms/step - loss: 18429.1074 - mae: 119.7142 - val_loss: 18631.0781 - val_mae: 120.5342 - learning_rate: 1.2500e-04\n",
      "Epoch 4/20\n",
      "\u001b[1m782/782\u001b[0m \u001b[32m━━━━━━━━━━━━━━━━━━━━\u001b[0m\u001b[37m\u001b[0m \u001b[1m383s\u001b[0m 490ms/step - loss: 18387.7949 - mae: 119.5654 - val_loss: 18631.0781 - val_mae: 120.5342 - learning_rate: 1.2500e-04\n",
      "Epoch 5/20\n",
      "\u001b[1m782/782\u001b[0m \u001b[32m━━━━━━━━━━━━━━━━━━━━\u001b[0m\u001b[37m\u001b[0m \u001b[1m492s\u001b[0m 554ms/step - loss: 18458.8672 - mae: 119.7913 - val_loss: 18631.0781 - val_mae: 120.5342 - learning_rate: 1.2500e-04\n",
      "Epoch 6/20\n",
      "\u001b[1m782/782\u001b[0m \u001b[32m━━━━━━━━━━━━━━━━━━━━\u001b[0m\u001b[37m\u001b[0m \u001b[1m0s\u001b[0m 500ms/step - loss: 18436.1895 - mae: 119.6770\n",
      "Epoch 6: ReduceLROnPlateau reducing learning rate to 6.25000029685907e-05.\n",
      "\u001b[1m782/782\u001b[0m \u001b[32m━━━━━━━━━━━━━━━━━━━━\u001b[0m\u001b[37m\u001b[0m \u001b[1m408s\u001b[0m 521ms/step - loss: 18436.2012 - mae: 119.6770 - val_loss: 18631.0781 - val_mae: 120.5342 - learning_rate: 1.2500e-04\n",
      "Epoch 7/20\n",
      "\u001b[1m782/782\u001b[0m \u001b[32m━━━━━━━━━━━━━━━━━━━━\u001b[0m\u001b[37m\u001b[0m \u001b[1m387s\u001b[0m 495ms/step - loss: 18442.2246 - mae: 119.6729 - val_loss: 18631.0781 - val_mae: 120.5342 - learning_rate: 6.2500e-05\n",
      "Epoch 8/20\n",
      "\u001b[1m782/782\u001b[0m \u001b[32m━━━━━━━━━━━━━━━━━━━━\u001b[0m\u001b[37m\u001b[0m \u001b[1m441s\u001b[0m 494ms/step - loss: 18439.0898 - mae: 119.6669 - val_loss: 18631.0781 - val_mae: 120.5342 - learning_rate: 6.2500e-05\n",
      "Epoch 9/20\n",
      "\u001b[1m782/782\u001b[0m \u001b[32m━━━━━━━━━━━━━━━━━━━━\u001b[0m\u001b[37m\u001b[0m \u001b[1m385s\u001b[0m 493ms/step - loss: 18503.8125 - mae: 119.9676 - val_loss: 18631.0781 - val_mae: 120.5342 - learning_rate: 6.2500e-05\n",
      "Epoch 10/20\n",
      "\u001b[1m782/782\u001b[0m \u001b[32m━━━━━━━━━━━━━━━━━━━━\u001b[0m\u001b[37m\u001b[0m \u001b[1m387s\u001b[0m 495ms/step - loss: 18519.1191 - mae: 119.9355 - val_loss: 18631.0781 - val_mae: 120.5342 - learning_rate: 6.2500e-05\n",
      "Epoch 11/20\n",
      "\u001b[1m782/782\u001b[0m \u001b[32m━━━━━━━━━━━━━━━━━━━━\u001b[0m\u001b[37m\u001b[0m \u001b[1m0s\u001b[0m 477ms/step - loss: 18411.7500 - mae: 119.6144\n",
      "Epoch 11: ReduceLROnPlateau reducing learning rate to 3.125000148429535e-05.\n",
      "\u001b[1m782/782\u001b[0m \u001b[32m━━━━━━━━━━━━━━━━━━━━\u001b[0m\u001b[37m\u001b[0m \u001b[1m445s\u001b[0m 498ms/step - loss: 18411.7930 - mae: 119.6145 - val_loss: 18631.0781 - val_mae: 120.5342 - learning_rate: 6.2500e-05\n"
     ]
    }
   ],
   "source": [
    "# TODO: مدل را آموزش دهید.\n",
    "# از داده های آموزشی برای آموزش مدل و از داده های آزمایش برای اعتبار سنجی استفاده کنید.\n",
    "\n",
    "# آموزش مدل\n",
    "history = sr_model.fit(\n",
    "    x=x_train_lr,        # ورودی: تصاویر کم‌کیفیت\n",
    "    y=x_train,           # خروجی: تصاویر باکیفیت (هدف)\n",
    "    epochs=20,          # حداکثر تعداد epoch\n",
    "    batch_size=64,       # اندازه batch\n",
    "    validation_data=(x_test_lr, x_test),  # اعتبارسنجی با داده‌های تست\n",
    "    callbacks=callbacks_list,  # EarlyStopping و ReduceLROnPlateau\n",
    "    verbose=1\n",
    ")"
   ]
  },
  {
   "cell_type": "markdown",
   "metadata": {
    "id": "6D3_A2tVQ3dD"
   },
   "source": [
    "<br><br>\n",
    "<div dir=\"rtl\"> <font size=\"5\">۷. ترسیم نمودار تابع هزینه (Loss)</font> </div>\n",
    "<div dir=\"rtl\">\n",
    "    <font size=\"4\">\n",
    "        نمودار تابع هزینه را برای داده‌های آموزشی و اعتبارسنجی رسم کنید تا روند یادگیری مدل را بررسی کنیم.\n",
    "    </font>\n",
    "</div>"
   ]
  },
  {
   "cell_type": "code",
   "execution_count": 87,
   "metadata": {
    "id": "QxEtIhApQTjV"
   },
   "outputs": [],
   "source": [
    "# TODO: نمودار Loss را برای داده‌های آموزشی و اعتبارسنجی رسم کنید.\n",
    "def plot_loss_history(history):\n",
    "    \"\"\"\n",
    "    نمودار Loss را برای داده‌های آموزشی و اعتبارسنجی رسم می‌کند.\n",
    "\n",
    "    Args:\n",
    "        history: شی History برگردانده شده توسط متد model.fit.\n",
    "    \"\"\"\n",
    "    # دسترسی به loss ها\n",
    "    loss = history.history['loss']\n",
    "    val_loss = history.history['val_loss']\n",
    "    \n",
    "    # تعداد epoch ها\n",
    "    epochs = range(1, len(loss) + 1)\n",
    "    \n",
    "    # رسم نمودار\n",
    "    plt.figure(figsize=(8,5))\n",
    "    plt.plot(epochs, loss, 'b-', label='Training Loss')\n",
    "    plt.plot(epochs, val_loss, 'r-', label='Validation Loss')\n",
    "    plt.title('Training and Validation Loss')\n",
    "    plt.xlabel('Epochs')\n",
    "    plt.ylabel('Loss')\n",
    "    plt.legend()\n",
    "    plt.grid(True)\n",
    "    plt.show()"
   ]
  },
  {
   "cell_type": "code",
   "execution_count": 88,
   "metadata": {
    "id": "2V4P1BzpQTgg"
   },
   "outputs": [
    {
     "data": {
      "image/png": "[encoded data removed]",
      "text/plain": [
       "<Figure size 800x500 with 1 Axes>"
      ]
     },
     "metadata": {},
     "output_type": "display_data"
    }
   ],
   "source": [
    "# فراخوانی تابع برای نمایش نمودار\n",
    "\n",
    "plot_loss_history(history)"
   ]
  },
  {
   "cell_type": "markdown",
   "metadata": {
    "id": "MXQ9nV1tRQ3g"
   },
   "source": [
    "<br /><br />\n",
    "<div dir=\"rtl\"><font size=\"5\">8. ارزیابی نهایی و مصورسازی نتایج</font></div>\n",
    "<br />\n",
    "<div dir=\"rtl\">\n",
    "  <font size=\"4\">\n",
    "    در این بخش، عملکرد مدل Super-Resolution را به صورت بصری ارزیابی می‌کنید.\n",
    "    هدف این است که به چشم ببینیم مدل چقدر در بازسازی جزئیات موفق بوده است.\n",
    "    <br /><br />\n",
    "    <strong>وظیفه شما:</strong>\n",
    "    <li>\n",
    "      مدل آموزش‌دیده را برای پیش‌بینی روی چند نمونه تصادفی از داده‌های\n",
    "      تست به کار ببرید.\n",
    "    </li>\n",
    "    <li>\n",
    "      سپس برای هر نمونه، سه تصویر را در کنار هم نمایش دهید:\n",
    "        <li>\n",
    "          تصویر ورودی با کیفیت پایین (Low-Resolution - LR): تصویری که مدل به\n",
    "          عنوان ورودی دریافت کرده است.\n",
    "        </li>\n",
    "        <li>\n",
    "          تصویر بازسازی‌شده توسط مدل (Super-Res (Predicted)): تصویری که مدل\n",
    "          شما با کیفیت بالا پیش‌بینی کرده است.\n",
    "        </li>\n",
    "        <li>\n",
    "          تصویر واقعی و با کیفیت بالا (Ground Truth HR): تصویر اصلی که مدل\n",
    "          باید آن را بازسازی می‌کرد (هدف مدل).\n",
    "        </li>\n",
    "    </li>\n",
    "    با مقایسه این سه تصویر، می‌توانید کیفیت بصری بازسازی مدل و توانایی آن در\n",
    "    افزودن جزئیات را ارزیابی کنید.\n",
    "  </font>\n",
    "</div>\n"
   ]
  },
  {
   "cell_type": "code",
   "execution_count": 89,
   "metadata": {
    "id": "5qEWYpA9QTd0"
   },
   "outputs": [
    {
     "name": "stdout",
     "output_type": "stream",
     "text": [
      "\u001b[1m313/313\u001b[0m \u001b[32m━━━━━━━━━━━━━━━━━━━━\u001b[0m\u001b[37m\u001b[0m \u001b[1m21s\u001b[0m 66ms/step\n",
      "Shape of predicted images: (10000, 32, 32, 3)\n"
     ]
    }
   ],
   "source": [
    "# TODO: با استفاده از مدل آموزش‌دیده، تصاویر باکیفیت را از روی تصاویر بی‌کیفیت تست پیش‌بینی کنید.\n",
    "\n",
    "predicted_hr = sr_model.predict(x_test_lr)\n",
    "print(f\"Shape of predicted images: {predicted_hr.shape}\")"
   ]
  },
  {
   "cell_type": "code",
   "execution_count": 92,
   "metadata": {
    "id": "VrNUibukSyxi"
   },
   "outputs": [
    {
     "name": "stderr",
     "output_type": "stream",
     "text": [
      "Clipping input data to the valid range for imshow with RGB data ([0..1] for floats or [0..255] for integers). Got range [8.0..253.5].\n"
     ]
    },
    {
     "data": {
      "image/png": "[encoded data removed]",
      "text/plain": [
       "<Figure size 1200x400 with 3 Axes>"
      ]
     },
     "metadata": {},
     "output_type": "display_data"
    },
    {
     "name": "stderr",
     "output_type": "stream",
     "text": [
      "Clipping input data to the valid range for imshow with RGB data ([0..1] for floats or [0..255] for integers). Got range [3.75..254.75].\n"
     ]
    },
    {
     "data": {
      "image/png": "[encoded data removed]",
      "text/plain": [
       "<Figure size 1200x400 with 3 Axes>"
      ]
     },
     "metadata": {},
     "output_type": "display_data"
    },
    {
     "name": "stderr",
     "output_type": "stream",
     "text": [
      "Clipping input data to the valid range for imshow with RGB data ([0..1] for floats or [0..255] for integers). Got range [11.5..193.75].\n"
     ]
    },
    {
     "data": {
      "image/png": "[encoded data removed]",
      "text/plain": [
       "<Figure size 1200x400 with 3 Axes>"
      ]
     },
     "metadata": {},
     "output_type": "display_data"
    },
    {
     "name": "stderr",
     "output_type": "stream",
     "text": [
      "Clipping input data to the valid range for imshow with RGB data ([0..1] for floats or [0..255] for integers). Got range [13.5..223.75].\n"
     ]
    },
    {
     "data": {
      "image/png": "[encoded data removed]",
      "text/plain": [
       "<Figure size 1200x400 with 3 Axes>"
      ]
     },
     "metadata": {},
     "output_type": "display_data"
    },
    {
     "name": "stderr",
     "output_type": "stream",
     "text": [
      "Clipping input data to the valid range for imshow with RGB data ([0..1] for floats or [0..255] for integers). Got range [31.5..212.5].\n"
     ]
    },
    {
     "data": {
      "image/png": "[encoded data removed]",
      "text/plain": [
       "<Figure size 1200x400 with 3 Axes>"
      ]
     },
     "metadata": {},
     "output_type": "display_data"
    },
    {
     "name": "stderr",
     "output_type": "stream",
     "text": [
      "Clipping input data to the valid range for imshow with RGB data ([0..1] for floats or [0..255] for integers). Got range [16.75..234.75].\n"
     ]
    },
    {
     "data": {
      "image/png": "[encoded data removed]",
      "text/plain": [
       "<Figure size 1200x400 with 3 Axes>"
      ]
     },
     "metadata": {},
     "output_type": "display_data"
    },
    {
     "name": "stderr",
     "output_type": "stream",
     "text": [
      "Clipping input data to the valid range for imshow with RGB data ([0..1] for floats or [0..255] for integers). Got range [42.0..182.75].\n"
     ]
    },
    {
     "data": {
      "image/png": "[encoded data removed]",
      "text/plain": [
       "<Figure size 1200x400 with 3 Axes>"
      ]
     },
     "metadata": {},
     "output_type": "display_data"
    },
    {
     "name": "stderr",
     "output_type": "stream",
     "text": [
      "Clipping input data to the valid range for imshow with RGB data ([0..1] for floats or [0..255] for integers). Got range [6.75..207.75].\n"
     ]
    },
    {
     "data": {
      "image/png": "[encoded data removed]",
      "text/plain": [
       "<Figure size 1200x400 with 3 Axes>"
      ]
     },
     "metadata": {},
     "output_type": "display_data"
    },
    {
     "name": "stderr",
     "output_type": "stream",
     "text": [
      "Clipping input data to the valid range for imshow with RGB data ([0..1] for floats or [0..255] for integers). Got range [26.25..246.75].\n"
     ]
    },
    {
     "data": {
      "image/png": "[encoded data removed]",
      "text/plain": [
       "<Figure size 1200x400 with 3 Axes>"
      ]
     },
     "metadata": {},
     "output_type": "display_data"
    },
    {
     "name": "stderr",
     "output_type": "stream",
     "text": [
      "Clipping input data to the valid range for imshow with RGB data ([0..1] for floats or [0..255] for integers). Got range [39.25..220.75].\n"
     ]
    },
    {
     "data": {
      "image/png": "[encoded data removed]",
      "text/plain": [
       "<Figure size 1200x400 with 3 Axes>"
      ]
     },
     "metadata": {},
     "output_type": "display_data"
    }
   ],
   "source": [
    "# TODO: یک تابع برای نمایش سه‌تایی تصاویر بنویسید.\n",
    "\n",
    "def visualize_predictions(lr_images, predicted_images, hr_images, num_samples=5):\n",
    "    \n",
    "    # انتخاب نمونه‌های تصادفی\n",
    "    indices = np.random.choice(len(lr_images), num_samples, replace=False)\n",
    "    \n",
    "    for i, idx in enumerate(indices):\n",
    "        plt.figure(figsize=(12,4))\n",
    "        \n",
    "        # تصویر LR\n",
    "        plt.subplot(1,3,1)\n",
    "        plt.imshow(lr_images[idx])\n",
    "        plt.title(\"LR Input\")\n",
    "        plt.axis('off')\n",
    "        \n",
    "        # تصویر بازسازی شده\n",
    "        plt.subplot(1,3,2)\n",
    "        plt.imshow(predicted_images[idx])\n",
    "        plt.title(\"Predicted HR\")\n",
    "        plt.axis('off')\n",
    "        \n",
    "        # تصویر واقعی HR\n",
    "        plt.subplot(1,3,3)\n",
    "        plt.imshow(hr_images[idx])\n",
    "        plt.title(\"Ground Truth HR\")\n",
    "        plt.axis('off')\n",
    "        \n",
    "        plt.show()\n",
    "\n",
    "#  فراخوانی تابع\n",
    "visualize_predictions(x_test_lr, predicted_hr, x_test, num_samples=10)\n"
   ]
  },
  {
   "cell_type": "markdown",
   "metadata": {
    "id": "Nt7rbcfpRVRb"
   },
   "source": [
    "<br /><br />\n",
    "<div dir=\"rtl\">\n",
    "  <font size=\"4\">\n",
    "    <div dir=\"rtl\">\n",
    "      <font size=\"5\">9. ارزیابی کمی با استفاده از معیار PSNR </font>\n",
    "    </div>\n",
    "  </font>\n",
    "  <font size=\"4\">\n",
    "      <strong>Peak Signal-to-Noise Ratio (PSNR)</strong> یک معیار مهندسی برای سنجش\n",
    "      کیفیت بازسازی تصاویر است که میزان نزدیکی تصویر بازسازی‌شده (مثلاً خروجی مدل\n",
    "      Super-Resolution) به تصویر اصلی را اندازه‌گیری می‌کند. این معیار بر پایه‌ی\n",
    "      خطای میانگین مربعی (MSE) تعریف می‌شود و واحد آن دسی‌بل (dB) است. هر چه مقدار\n",
    "      PSNR بیشتر باشد، نویز کمتر و کیفیت بازسازی بهتر است. <br /><br />\n",
    "      به طور معمول، مقدار PSNR بالاتر از ۳۰ دسی‌بل نشان‌دهنده‌ی کیفیت خوب در\n",
    "      بازسازی تصاویر طبیعی است، در حالی‌که مقادیر پایین‌تر بیانگر وجود نویز یا از\n",
    "      دست‌رفتن جزئیات در تصویر هستند.\n",
    "      <br /><br />\n",
    "      از آن‌جا که معماری طراحی‌شده در این تمرین یک مدل ساده و آموزشی است، انتظار\n",
    "      مقدار PSNR بالا وجود ندارد. هدف اصلی، آشنایی با مفاهیم پایه‌ای وظیفه‌ی\n",
    "      <strong>Super-Resolution</strong> و نحوه‌ی ارزیابی آن است.\n",
    "      <br><br>\n",
    "      <font color='red'>هدف:</font> سعنی کنید معیاری PSNR را بین 20 تا 30 به دست آورید.\n",
    "      <br>\n",
    "      <br>برای مطالعه بیشتر در مورد این معیار به لینک های زیر مراجعه کنید.\n",
    "  </font>\n",
    "</div>\n",
    "\n",
    "* [Peak Signal-to-Noise Ratio](https://en.wikipedia.org/wiki/Peak_signal-to-noise_ratio)\n",
    "* [Tensorflow | PSNR](https://www.tensorflow.org/api_docs/python/tf/image/psnr)\n",
    "<br>"
   ]
  },
  {
   "cell_type": "code",
   "execution_count": 93,
   "metadata": {
    "id": "EwJjP2yHRUfQ"
   },
   "outputs": [
    {
     "name": "stdout",
     "output_type": "stream",
     "text": [
      "PSNR samples: [-43.74223  -42.081295 -42.852066 -41.21212  -43.718166 -44.27172\n",
      " -45.61481  -44.795162 -40.40181  -42.122196]\n"
     ]
    }
   ],
   "source": [
    "# TODO: محاسبه PSNR برای کل مجموعه تست\n",
    "# استفاده از تابع psnr از TensorFlow برای محاسبه Peak Signal-to-Noise Ratio (PSNR)\n",
    "\n",
    "import tensorflow as tf\n",
    "\n",
    "# محاسبه PSNR هر تصویر در مجموعه تست\n",
    "psnr_values = tf.image.psnr(x_test, predicted_hr, max_val=1.0)  # تصاویر نرمال‌شده [0,1]\n",
    "\n",
    "# نمایش چند مقدار نمونه\n",
    "print(\"PSNR samples:\", psnr_values[:10].numpy())"
   ]
  },
  {
   "cell_type": "code",
   "execution_count": 95,
   "metadata": {
    "id": "XCGLCihxTJZ1"
   },
   "outputs": [
    {
     "name": "stdout",
     "output_type": "stream",
     "text": [
      "Average PSNR on test set: -43.06 dB\n"
     ]
    }
   ],
   "source": [
    "# میانگین PSNR کل مجموعه تست\n",
    "\n",
    "import numpy as np\n",
    "mean_psnr = np.mean(psnr_values)\n",
    "print(f\"Average PSNR on test set: {mean_psnr:.2f} dB\")"
   ]
  }
 ],
 "metadata": {
  "accelerator": "GPU",
  "colab": {
   "gpuType": "T4",
   "provenance": []
  },
  "kernelspec": {
   "display_name": "Python 3",
   "name": "python3"
  },
  "language_info": {
   "codemirror_mode": {
    "name": "ipython",
    "version": 3
   },
   "file_extension": ".py",
   "mimetype": "text/x-python",
   "name": "python",
   "nbconvert_exporter": "python",
   "pygments_lexer": "ipython3",
   "version": "3.12.2"
  }
 },
 "nbformat": 4,
 "nbformat_minor": 0
}
